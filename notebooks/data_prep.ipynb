{
 "cells": [
  {
   "cell_type": "code",
   "execution_count": 1,
   "metadata": {},
   "outputs": [
    {
     "name": "stdout",
     "output_type": "stream",
     "text": [
      "Using sample size from config: 10\n",
      "Sample description: small_dataset_for_testing_pipeline\n",
      "Pre-processing data...\n",
      "Sampled 10 rows from processed dataset\n",
      "Saved processed dataset to data/processed/processed_dataset_10rows_small_dataset_for_testing_pipeline_20250501_134923.csv\n",
      "\u001b[?25l\u001b[32m⠋\u001b[0m Checking graph                                       core\u001b[39m>\n",
      "Adding...                                                                       \n",
      "!\u001b[A\n",
      "Collecting files and computing hashes in data/processed/processed_dataset_10rows\u001b[A\n",
      "                                                                                \u001b[A\n",
      "!\u001b[A\n",
      "  0% Checking cache in '/Users/shenghaoxu/Projects/E-commerce-Chatbot/.dvc/cache\u001b[A\n",
      "                                                                                \u001b[A\n",
      "!\u001b[A\n",
      "  0%|          |Checking out /Users/shenghaoxu/Project0/1 [00:00<?,    ?files/s]\u001b[A\n",
      "100% Adding...|███████████████████████████████████████|1/1 [00:00, 126.32file/s]\u001b[A\n",
      "\n",
      "To track the changes with git, run:\n",
      "\n",
      "\tgit add data/processed/processed_dataset_10rows_small_dataset_for_testing_pipeline_20250501_134923.csv.dvc data/processed/.gitignore\n",
      "\n",
      "To enable auto staging, run:\n",
      "\n",
      "\tdvc config core.autostage true\n",
      "\u001b[0m[Austin 80690fc] Add dataset (20250501_134923)\n",
      " 1 file changed, 5 insertions(+)\n",
      " create mode 100644 data/processed/processed_dataset_10rows_small_dataset_for_testing_pipeline_20250501_134923.csv.dvc\n",
      "Collecting                                           |3.00 [00:00, 1.37kentry/s]\n",
      "Pushing\n",
      "!\u001b[A\n",
      "  0% Checking cache in 'ecommerce-chatbot-datasets/e-commerce-datasets/files/md5\u001b[A\n",
      " 50% Querying cache in 'ecommerce-chatbot-datasets/e-commerce-datasets/files/md5\u001b[A\n",
      "Pushing                                                                         \u001b[A\n",
      "Everything is up to date.\n",
      "\u001b[0mEnumerating objects: 8, done.\n",
      "Counting objects: 100% (8/8), done.\n",
      "Delta compression using up to 10 threads\n",
      "Compressing objects: 100% (5/5), done.\n",
      "Writing objects: 100% (5/5), 629 bytes | 629.00 KiB/s, done.\n",
      "Total 5 (delta 1), reused 0 (delta 0), pack-reused 0\n",
      "remote: Resolving deltas: 100% (1/1), completed with 1 local object.\u001b[K\n",
      "To https://github.com/ShenghaoisYummy/E-commerce-Chatbot.git\n",
      "   096f450..80690fc  Austin -> Austin\n",
      "Enumerating objects: 2, done.\n",
      "Counting objects: 100% (2/2), done.\n",
      "Delta compression using up to 10 threads\n",
      "Compressing objects: 100% (2/2), done.\n",
      "Writing objects: 100% (2/2), 387 bytes | 387.00 KiB/s, done.\n",
      "Total 2 (delta 0), reused 0 (delta 0), pack-reused 0\n",
      "To https://github.com/ShenghaoisYummy/E-commerce-Chatbot.git\n",
      " * [new tag]         data-20250501_111926 -> data-20250501_111926\n",
      " * [new tag]         tag-processed_dataset_10rows_small_dataset_for_testing_pipeline_20250501_134923.csv -> tag-processed_dataset_10rows_small_dataset_for_testing_pipeline_20250501_134923.csv\n",
      "Dataset tracked with DVC and tagged as: tag-processed_dataset_10rows_small_dataset_for_testing_pipeline_20250501_134923.csv\n",
      "Dataset processed as processed_dataset_10rows_20250501_134923.csv\n"
     ]
    }
   ],
   "source": [
    "!python3 scripts/data_prep_script.py 2>&1"
   ]
  }
 ],
 "metadata": {
  "kernelspec": {
   "display_name": "Python 3 (ipykernel)",
   "language": "python",
   "name": "python3"
  },
  "language_info": {
   "codemirror_mode": {
    "name": "ipython",
    "version": 3
   },
   "file_extension": ".py",
   "mimetype": "text/x-python",
   "name": "python",
   "nbconvert_exporter": "python",
   "pygments_lexer": "ipython3",
   "version": "3.9.21"
  }
 },
 "nbformat": 4,
 "nbformat_minor": 2
}
