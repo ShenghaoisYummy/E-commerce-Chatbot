{
 "cells": [
  {
   "cell_type": "code",
   "execution_count": 18,
   "metadata": {},
   "outputs": [
    {
     "name": "stdout",
     "output_type": "stream",
     "text": [
      "Loaded base configuration from configs/base_config.yaml\n",
      "Merged model configuration from configs/model_config.yaml\n",
      "AWS credentials set\n",
      "Error pulling dataset: Command '['git', 'checkout', 'processed_dataset_10rows_small_dataset_for_testing_pipeline_20250501_124519']' returned non-zero exit status 1.\n",
      "Failed to pull dataset. Exiting.\n"
     ]
    },
    {
     "name": "stderr",
     "output_type": "stream",
     "text": [
      "error: pathspec 'processed_dataset_10rows_small_dataset_for_testing_pipeline_20250501_124519' did not match any file(s) known to git\n"
     ]
    }
   ],
   "source": [
    "from scripts.fine_tuning_script import main\n",
    "\n",
    "main()"
   ]
  }
 ],
 "metadata": {
  "kernelspec": {
   "display_name": "Python 3 (ipykernel)",
   "language": "python",
   "name": "python3"
  }
 },
 "nbformat": 4,
 "nbformat_minor": 2
}
