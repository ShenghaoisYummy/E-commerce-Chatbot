{
 "cells": [
  {
   "cell_type": "code",
   "execution_count": 6,
   "metadata": {},
   "outputs": [
    {
     "name": "stdout",
     "output_type": "stream",
     "text": [
      "Loaded base configuration from configs/base_config.yaml\n",
      "Merged model configuration from configs/model_config.yaml\n",
      "AWS credentials set\n",
      "Current branch: Austin\n",
      "M\tconfigs/model_config.yaml\n",
      "M\tnotebooks/fine_tuning.ipynb\n",
      "Your branch is up to date with 'origin/Austin'.\n",
      "Switched to Austin branch\n",
      "Error pulling dataset: Command '['git', 'checkout', 'tag-processed_dataset_10rows_small_dataset_for_testing_pipeline_20250501_134923.csv']' returned non-zero exit status 1.\n",
      "M\tconfigs/model_config.yaml\n",
      "M\tnotebooks/fine_tuning.ipynb\n",
      "Your branch is up to date with 'origin/Austin'.\n",
      "Returned to Austin branch after error\n",
      "Failed to pull dataset. Exiting.\n"
     ]
    },
    {
     "name": "stderr",
     "output_type": "stream",
     "text": [
      "huggingface/tokenizers: The current process just got forked, after parallelism has already been used. Disabling parallelism to avoid deadlocks...\n",
      "To disable this warning, you can either:\n",
      "\t- Avoid using `tokenizers` before the fork if possible\n",
      "\t- Explicitly set the environment variable TOKENIZERS_PARALLELISM=(true | false)\n",
      "huggingface/tokenizers: The current process just got forked, after parallelism has already been used. Disabling parallelism to avoid deadlocks...\n",
      "To disable this warning, you can either:\n",
      "\t- Avoid using `tokenizers` before the fork if possible\n",
      "\t- Explicitly set the environment variable TOKENIZERS_PARALLELISM=(true | false)\n",
      "Already on 'Austin'\n",
      "huggingface/tokenizers: The current process just got forked, after parallelism has already been used. Disabling parallelism to avoid deadlocks...\n",
      "To disable this warning, you can either:\n",
      "\t- Avoid using `tokenizers` before the fork if possible\n",
      "\t- Explicitly set the environment variable TOKENIZERS_PARALLELISM=(true | false)\n",
      "error: Your local changes to the following files would be overwritten by checkout:\n",
      "\tconfigs/model_config.yaml\n",
      "\tnotebooks/fine_tuning.ipynb\n",
      "Please commit your changes or stash them before you switch branches.\n",
      "Aborting\n",
      "huggingface/tokenizers: The current process just got forked, after parallelism has already been used. Disabling parallelism to avoid deadlocks...\n",
      "To disable this warning, you can either:\n",
      "\t- Avoid using `tokenizers` before the fork if possible\n",
      "\t- Explicitly set the environment variable TOKENIZERS_PARALLELISM=(true | false)\n",
      "Already on 'Austin'\n"
     ]
    }
   ],
   "source": [
    "from scripts.fine_tuning_script import main\n",
    "\n",
    "main()"
   ]
  }
 ],
 "metadata": {
  "kernelspec": {
   "display_name": "Python 3 (ipykernel)",
   "language": "python",
   "name": "python3"
  },
  "language_info": {
   "codemirror_mode": {
    "name": "ipython",
    "version": 3
   },
   "file_extension": ".py",
   "mimetype": "text/x-python",
   "name": "python",
   "nbconvert_exporter": "python",
   "pygments_lexer": "ipython3",
   "version": "3.9.21"
  }
 },
 "nbformat": 4,
 "nbformat_minor": 2
}
