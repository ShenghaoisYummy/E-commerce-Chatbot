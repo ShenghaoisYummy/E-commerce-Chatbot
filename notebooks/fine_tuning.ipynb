{
 "cells": [
  {
   "cell_type": "code",
   "execution_count": 2,
   "metadata": {},
   "outputs": [
    {
     "name": "stdout",
     "output_type": "stream",
     "text": [
      "Loaded base configuration from configs/base_config.yaml\n",
      "Merged model configuration from configs/model_config.yaml\n",
      "AWS credentials set\n",
      "Current branch: Austin\n",
      "M\tnotebooks/fine_tuning.ipynb\n",
      "M\tscripts/__pycache__/fine_tuning_script.cpython-39.pyc\n",
      "M\tscripts/fine_tuning_script.py\n",
      "M\tsrc/fine_tuning.py\n",
      "M\tutils/__pycache__/dvc_utils.cpython-39.pyc\n",
      "M\tutils/__pycache__/mlflow_utils.cpython-39.pyc\n",
      "M\tutils/__pycache__/yaml_utils.cpython-39.pyc\n",
      "M\tutils/dvc_utils.py\n",
      "M\tutils/mlflow_utils.py\n",
      "M\tutils/yaml_utils.py\n",
      "Your branch is up to date with 'origin/Austin'.\n",
      "Switched to Austin branch\n",
      "Error pulling dataset: Command '['git', 'checkout', 'tag-processed_dataset_10rows_small_dataset_for_testing_pipeline_20250501_134923.csv']' returned non-zero exit status 1.\n",
      "M\tnotebooks/fine_tuning.ipynb\n",
      "M\tscripts/__pycache__/fine_tuning_script.cpython-39.pyc\n",
      "M\tscripts/fine_tuning_script.py\n",
      "M\tsrc/fine_tuning.py\n",
      "M\tutils/__pycache__/dvc_utils.cpython-39.pyc\n",
      "M\tutils/__pycache__/mlflow_utils.cpython-39.pyc\n",
      "M\tutils/__pycache__/yaml_utils.cpython-39.pyc\n",
      "M\tutils/dvc_utils.py\n",
      "M\tutils/mlflow_utils.py\n",
      "M\tutils/yaml_utils.py\n",
      "Your branch is up to date with 'origin/Austin'.\n",
      "Returned to Austin branch after error\n",
      "Failed to pull dataset. Exiting.\n"
     ]
    },
    {
     "name": "stderr",
     "output_type": "stream",
     "text": [
      "Already on 'Austin'\n",
      "error: Your local changes to the following files would be overwritten by checkout:\n",
      "\tnotebooks/fine_tuning.ipynb\n",
      "\tscripts/__pycache__/fine_tuning_script.cpython-39.pyc\n",
      "\tscripts/fine_tuning_script.py\n",
      "\tsrc/fine_tuning.py\n",
      "\tutils/__pycache__/dvc_utils.cpython-39.pyc\n",
      "\tutils/__pycache__/mlflow_utils.cpython-39.pyc\n",
      "\tutils/__pycache__/yaml_utils.cpython-39.pyc\n",
      "\tutils/dvc_utils.py\n",
      "\tutils/mlflow_utils.py\n",
      "Please commit your changes or stash them before you switch branches.\n",
      "Aborting\n",
      "Already on 'Austin'\n"
     ]
    }
   ],
   "source": [
    "from scripts.fine_tuning_script import main\n",
    "\n",
    "main()"
   ]
  }
 ],
 "metadata": {
  "kernelspec": {
   "display_name": "Python 3 (ipykernel)",
   "language": "python",
   "name": "python3"
  },
  "language_info": {
   "codemirror_mode": {
    "name": "ipython",
    "version": 3
   },
   "file_extension": ".py",
   "mimetype": "text/x-python",
   "name": "python",
   "nbconvert_exporter": "python",
   "pygments_lexer": "ipython3",
   "version": "3.9.21"
  }
 },
 "nbformat": 4,
 "nbformat_minor": 2
}
